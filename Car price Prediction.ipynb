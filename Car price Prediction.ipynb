{
  "metadata": {
    "language_info": {
      "codemirror_mode": {
        "name": "python",
        "version": 3
      },
      "file_extension": ".py",
      "mimetype": "text/x-python",
      "name": "python",
      "nbconvert_exporter": "python",
      "pygments_lexer": "ipython3",
      "version": "3.8"
    },
    "kernelspec": {
      "name": "python",
      "display_name": "Pyolite",
      "language": "python"
    }
  },
  "nbformat_minor": 4,
  "nbformat": 4,
  "cells": [
    {
      "cell_type": "code",
      "source": "import numpy as np\nimport pandas as pd",
      "metadata": {
        "trusted": true
      },
      "execution_count": 1,
      "outputs": []
    },
    {
      "cell_type": "code",
      "source": "car = pd.read_csv('quikr_car.csv')",
      "metadata": {
        "trusted": true
      },
      "execution_count": 2,
      "outputs": []
    },
    {
      "cell_type": "code",
      "source": "car.head()",
      "metadata": {
        "trusted": true
      },
      "execution_count": 3,
      "outputs": [
        {
          "execution_count": 3,
          "output_type": "execute_result",
          "data": {
            "text/plain": "                                     name   company  year          Price  \\\n0    Hyundai Santro Xing XO eRLX Euro III   Hyundai  2007         80,000   \n1                 Mahindra Jeep CL550 MDI  Mahindra  2006       4,25,000   \n2              Maruti Suzuki Alto 800 Vxi    Maruti  2018  Ask For Price   \n3  Hyundai Grand i10 Magna 1.2 Kappa VTVT   Hyundai  2014       3,25,000   \n4        Ford EcoSport Titanium 1.5L TDCi      Ford  2014       5,75,000   \n\n   kms_driven fuel_type  \n0  45,000 kms    Petrol  \n1      40 kms    Diesel  \n2  22,000 kms    Petrol  \n3  28,000 kms    Petrol  \n4  36,000 kms    Diesel  ",
            "text/html": "<div>\n<style scoped>\n    .dataframe tbody tr th:only-of-type {\n        vertical-align: middle;\n    }\n\n    .dataframe tbody tr th {\n        vertical-align: top;\n    }\n\n    .dataframe thead th {\n        text-align: right;\n    }\n</style>\n<table border=\"1\" class=\"dataframe\">\n  <thead>\n    <tr style=\"text-align: right;\">\n      <th></th>\n      <th>name</th>\n      <th>company</th>\n      <th>year</th>\n      <th>Price</th>\n      <th>kms_driven</th>\n      <th>fuel_type</th>\n    </tr>\n  </thead>\n  <tbody>\n    <tr>\n      <th>0</th>\n      <td>Hyundai Santro Xing XO eRLX Euro III</td>\n      <td>Hyundai</td>\n      <td>2007</td>\n      <td>80,000</td>\n      <td>45,000 kms</td>\n      <td>Petrol</td>\n    </tr>\n    <tr>\n      <th>1</th>\n      <td>Mahindra Jeep CL550 MDI</td>\n      <td>Mahindra</td>\n      <td>2006</td>\n      <td>4,25,000</td>\n      <td>40 kms</td>\n      <td>Diesel</td>\n    </tr>\n    <tr>\n      <th>2</th>\n      <td>Maruti Suzuki Alto 800 Vxi</td>\n      <td>Maruti</td>\n      <td>2018</td>\n      <td>Ask For Price</td>\n      <td>22,000 kms</td>\n      <td>Petrol</td>\n    </tr>\n    <tr>\n      <th>3</th>\n      <td>Hyundai Grand i10 Magna 1.2 Kappa VTVT</td>\n      <td>Hyundai</td>\n      <td>2014</td>\n      <td>3,25,000</td>\n      <td>28,000 kms</td>\n      <td>Petrol</td>\n    </tr>\n    <tr>\n      <th>4</th>\n      <td>Ford EcoSport Titanium 1.5L TDCi</td>\n      <td>Ford</td>\n      <td>2014</td>\n      <td>5,75,000</td>\n      <td>36,000 kms</td>\n      <td>Diesel</td>\n    </tr>\n  </tbody>\n</table>\n</div>"
          },
          "metadata": {}
        }
      ]
    },
    {
      "cell_type": "code",
      "source": "car.shape",
      "metadata": {
        "trusted": true
      },
      "execution_count": 4,
      "outputs": [
        {
          "execution_count": 4,
          "output_type": "execute_result",
          "data": {
            "text/plain": "(892, 6)"
          },
          "metadata": {}
        }
      ]
    },
    {
      "cell_type": "code",
      "source": "car.info()",
      "metadata": {
        "trusted": true
      },
      "execution_count": 5,
      "outputs": [
        {
          "name": "stdout",
          "text": "<class 'pandas.core.frame.DataFrame'>\nRangeIndex: 892 entries, 0 to 891\nData columns (total 6 columns):\n #   Column      Non-Null Count  Dtype \n---  ------      --------------  ----- \n 0   name        892 non-null    object\n 1   company     892 non-null    object\n 2   year        892 non-null    object\n 3   Price       892 non-null    object\n 4   kms_driven  840 non-null    object\n 5   fuel_type   837 non-null    object\ndtypes: object(6)\nmemory usage: 21.0+ KB\n",
          "output_type": "stream"
        }
      ]
    },
    {
      "cell_type": "markdown",
      "source": "Cleaning",
      "metadata": {}
    },
    {
      "cell_type": "code",
      "source": "backup = car.copy()",
      "metadata": {
        "trusted": true
      },
      "execution_count": 6,
      "outputs": []
    },
    {
      "cell_type": "code",
      "source": "car['year']",
      "metadata": {
        "trusted": true
      },
      "execution_count": 7,
      "outputs": [
        {
          "execution_count": 7,
          "output_type": "execute_result",
          "data": {
            "text/plain": "0      2007\n1      2006\n2      2018\n3      2014\n4      2014\n       ... \n887    zest\n888    2018\n889    2013\n890    2014\n891    2014\nName: year, Length: 892, dtype: object"
          },
          "metadata": {}
        }
      ]
    },
    {
      "cell_type": "code",
      "source": "car = car[car['year'].str.isnumeric()]",
      "metadata": {
        "trusted": true
      },
      "execution_count": 8,
      "outputs": []
    },
    {
      "cell_type": "code",
      "source": "car['year'] = car['year'].astype(int)",
      "metadata": {
        "trusted": true
      },
      "execution_count": 9,
      "outputs": []
    },
    {
      "cell_type": "code",
      "source": "car['year']",
      "metadata": {
        "trusted": true
      },
      "execution_count": 10,
      "outputs": [
        {
          "execution_count": 10,
          "output_type": "execute_result",
          "data": {
            "text/plain": "0      2007\n1      2006\n2      2018\n3      2014\n4      2014\n       ... \n886    2009\n888    2018\n889    2013\n890    2014\n891    2014\nName: year, Length: 842, dtype: int32"
          },
          "metadata": {}
        }
      ]
    },
    {
      "cell_type": "code",
      "source": "car['Price']",
      "metadata": {
        "trusted": true
      },
      "execution_count": 11,
      "outputs": [
        {
          "execution_count": 11,
          "output_type": "execute_result",
          "data": {
            "text/plain": "0             80,000\n1           4,25,000\n2      Ask For Price\n3           3,25,000\n4           5,75,000\n           ...      \n886         3,00,000\n888         2,60,000\n889         3,90,000\n890         1,80,000\n891         1,60,000\nName: Price, Length: 842, dtype: object"
          },
          "metadata": {}
        }
      ]
    },
    {
      "cell_type": "code",
      "source": "car = car[car['Price'] != 'Ask For Price']",
      "metadata": {
        "trusted": true
      },
      "execution_count": 12,
      "outputs": []
    },
    {
      "cell_type": "code",
      "source": "car['Price'] = car['Price'].str.replace(',','').astype(int)",
      "metadata": {
        "trusted": true
      },
      "execution_count": 13,
      "outputs": []
    },
    {
      "cell_type": "code",
      "source": "car.info()",
      "metadata": {
        "trusted": true
      },
      "execution_count": 14,
      "outputs": [
        {
          "name": "stdout",
          "text": "<class 'pandas.core.frame.DataFrame'>\nInt64Index: 819 entries, 0 to 891\nData columns (total 6 columns):\n #   Column      Non-Null Count  Dtype \n---  ------      --------------  ----- \n 0   name        819 non-null    object\n 1   company     819 non-null    object\n 2   year        819 non-null    int32 \n 3   Price       819 non-null    int32 \n 4   kms_driven  819 non-null    object\n 5   fuel_type   816 non-null    object\ndtypes: int32(2), object(4)\nmemory usage: 25.6+ KB\n",
          "output_type": "stream"
        }
      ]
    },
    {
      "cell_type": "code",
      "source": "car['kms_driven']",
      "metadata": {
        "trusted": true
      },
      "execution_count": 15,
      "outputs": [
        {
          "execution_count": 15,
          "output_type": "execute_result",
          "data": {
            "text/plain": "0        45,000 kms\n1            40 kms\n3        28,000 kms\n4        36,000 kms\n6        41,000 kms\n           ...     \n886    1,32,000 kms\n888      27,000 kms\n889      40,000 kms\n890          Petrol\n891          Petrol\nName: kms_driven, Length: 819, dtype: object"
          },
          "metadata": {}
        }
      ]
    },
    {
      "cell_type": "code",
      "source": "car['kms_driven'] = car['kms_driven'].str.split(' ').str.get(0).str.replace(',','')",
      "metadata": {
        "trusted": true
      },
      "execution_count": 16,
      "outputs": []
    },
    {
      "cell_type": "code",
      "source": "car = car[car['kms_driven'].str.isnumeric()]",
      "metadata": {
        "trusted": true
      },
      "execution_count": 17,
      "outputs": []
    },
    {
      "cell_type": "code",
      "source": "car['kms_driven'] = car['kms_driven'].astype(int)",
      "metadata": {
        "trusted": true
      },
      "execution_count": 18,
      "outputs": []
    },
    {
      "cell_type": "code",
      "source": "car.info()",
      "metadata": {
        "trusted": true
      },
      "execution_count": 19,
      "outputs": [
        {
          "name": "stdout",
          "text": "<class 'pandas.core.frame.DataFrame'>\nInt64Index: 817 entries, 0 to 889\nData columns (total 6 columns):\n #   Column      Non-Null Count  Dtype \n---  ------      --------------  ----- \n 0   name        817 non-null    object\n 1   company     817 non-null    object\n 2   year        817 non-null    int32 \n 3   Price       817 non-null    int32 \n 4   kms_driven  817 non-null    int32 \n 5   fuel_type   816 non-null    object\ndtypes: int32(3), object(3)\nmemory usage: 25.5+ KB\n",
          "output_type": "stream"
        }
      ]
    },
    {
      "cell_type": "code",
      "source": "car = car[~car['fuel_type'].isna()]",
      "metadata": {
        "trusted": true
      },
      "execution_count": 20,
      "outputs": []
    },
    {
      "cell_type": "code",
      "source": "car['name']",
      "metadata": {
        "trusted": true
      },
      "execution_count": 21,
      "outputs": [
        {
          "execution_count": 21,
          "output_type": "execute_result",
          "data": {
            "text/plain": "0        Hyundai Santro Xing XO eRLX Euro III\n1                     Mahindra Jeep CL550 MDI\n3      Hyundai Grand i10 Magna 1.2 Kappa VTVT\n4            Ford EcoSport Titanium 1.5L TDCi\n6                                   Ford Figo\n                        ...                  \n883                Maruti Suzuki Ritz VXI ABS\n885                 Tata Indica V2 DLE BS III\n886                      Toyota Corolla Altis\n888                       Tata Zest XM Diesel\n889                        Mahindra Quanto C8\nName: name, Length: 816, dtype: object"
          },
          "metadata": {}
        }
      ]
    },
    {
      "cell_type": "code",
      "source": "car['name'] = car['name'].str.split(' ').str.slice(0,3).str.join(' ')",
      "metadata": {
        "trusted": true
      },
      "execution_count": 22,
      "outputs": []
    },
    {
      "cell_type": "code",
      "source": "car = car.reset_index(drop=True)",
      "metadata": {
        "trusted": true
      },
      "execution_count": 23,
      "outputs": []
    },
    {
      "cell_type": "code",
      "source": "car",
      "metadata": {
        "trusted": true
      },
      "execution_count": 24,
      "outputs": [
        {
          "execution_count": 24,
          "output_type": "execute_result",
          "data": {
            "text/plain": "                       name   company  year   Price  kms_driven fuel_type\n0       Hyundai Santro Xing   Hyundai  2007   80000       45000    Petrol\n1       Mahindra Jeep CL550  Mahindra  2006  425000          40    Diesel\n2         Hyundai Grand i10   Hyundai  2014  325000       28000    Petrol\n3    Ford EcoSport Titanium      Ford  2014  575000       36000    Diesel\n4                 Ford Figo      Ford  2012  175000       41000    Diesel\n..                      ...       ...   ...     ...         ...       ...\n811      Maruti Suzuki Ritz    Maruti  2011  270000       50000    Petrol\n812          Tata Indica V2      Tata  2009  110000       30000    Diesel\n813    Toyota Corolla Altis    Toyota  2009  300000      132000    Petrol\n814            Tata Zest XM      Tata  2018  260000       27000    Diesel\n815      Mahindra Quanto C8  Mahindra  2013  390000       40000    Diesel\n\n[816 rows x 6 columns]",
            "text/html": "<div>\n<style scoped>\n    .dataframe tbody tr th:only-of-type {\n        vertical-align: middle;\n    }\n\n    .dataframe tbody tr th {\n        vertical-align: top;\n    }\n\n    .dataframe thead th {\n        text-align: right;\n    }\n</style>\n<table border=\"1\" class=\"dataframe\">\n  <thead>\n    <tr style=\"text-align: right;\">\n      <th></th>\n      <th>name</th>\n      <th>company</th>\n      <th>year</th>\n      <th>Price</th>\n      <th>kms_driven</th>\n      <th>fuel_type</th>\n    </tr>\n  </thead>\n  <tbody>\n    <tr>\n      <th>0</th>\n      <td>Hyundai Santro Xing</td>\n      <td>Hyundai</td>\n      <td>2007</td>\n      <td>80000</td>\n      <td>45000</td>\n      <td>Petrol</td>\n    </tr>\n    <tr>\n      <th>1</th>\n      <td>Mahindra Jeep CL550</td>\n      <td>Mahindra</td>\n      <td>2006</td>\n      <td>425000</td>\n      <td>40</td>\n      <td>Diesel</td>\n    </tr>\n    <tr>\n      <th>2</th>\n      <td>Hyundai Grand i10</td>\n      <td>Hyundai</td>\n      <td>2014</td>\n      <td>325000</td>\n      <td>28000</td>\n      <td>Petrol</td>\n    </tr>\n    <tr>\n      <th>3</th>\n      <td>Ford EcoSport Titanium</td>\n      <td>Ford</td>\n      <td>2014</td>\n      <td>575000</td>\n      <td>36000</td>\n      <td>Diesel</td>\n    </tr>\n    <tr>\n      <th>4</th>\n      <td>Ford Figo</td>\n      <td>Ford</td>\n      <td>2012</td>\n      <td>175000</td>\n      <td>41000</td>\n      <td>Diesel</td>\n    </tr>\n    <tr>\n      <th>...</th>\n      <td>...</td>\n      <td>...</td>\n      <td>...</td>\n      <td>...</td>\n      <td>...</td>\n      <td>...</td>\n    </tr>\n    <tr>\n      <th>811</th>\n      <td>Maruti Suzuki Ritz</td>\n      <td>Maruti</td>\n      <td>2011</td>\n      <td>270000</td>\n      <td>50000</td>\n      <td>Petrol</td>\n    </tr>\n    <tr>\n      <th>812</th>\n      <td>Tata Indica V2</td>\n      <td>Tata</td>\n      <td>2009</td>\n      <td>110000</td>\n      <td>30000</td>\n      <td>Diesel</td>\n    </tr>\n    <tr>\n      <th>813</th>\n      <td>Toyota Corolla Altis</td>\n      <td>Toyota</td>\n      <td>2009</td>\n      <td>300000</td>\n      <td>132000</td>\n      <td>Petrol</td>\n    </tr>\n    <tr>\n      <th>814</th>\n      <td>Tata Zest XM</td>\n      <td>Tata</td>\n      <td>2018</td>\n      <td>260000</td>\n      <td>27000</td>\n      <td>Diesel</td>\n    </tr>\n    <tr>\n      <th>815</th>\n      <td>Mahindra Quanto C8</td>\n      <td>Mahindra</td>\n      <td>2013</td>\n      <td>390000</td>\n      <td>40000</td>\n      <td>Diesel</td>\n    </tr>\n  </tbody>\n</table>\n<p>816 rows × 6 columns</p>\n</div>"
          },
          "metadata": {}
        }
      ]
    },
    {
      "cell_type": "code",
      "source": "car.describe()",
      "metadata": {
        "trusted": true
      },
      "execution_count": 25,
      "outputs": [
        {
          "execution_count": 25,
          "output_type": "execute_result",
          "data": {
            "text/plain": "              year         Price     kms_driven\ncount   816.000000  8.160000e+02     816.000000\nmean   2012.444853  4.117176e+05   46275.531863\nstd       4.002992  4.751844e+05   34297.428044\nmin    1995.000000  3.000000e+04       0.000000\n25%    2010.000000  1.750000e+05   27000.000000\n50%    2013.000000  2.999990e+05   41000.000000\n75%    2015.000000  4.912500e+05   56818.500000\nmax    2019.000000  8.500003e+06  400000.000000",
            "text/html": "<div>\n<style scoped>\n    .dataframe tbody tr th:only-of-type {\n        vertical-align: middle;\n    }\n\n    .dataframe tbody tr th {\n        vertical-align: top;\n    }\n\n    .dataframe thead th {\n        text-align: right;\n    }\n</style>\n<table border=\"1\" class=\"dataframe\">\n  <thead>\n    <tr style=\"text-align: right;\">\n      <th></th>\n      <th>year</th>\n      <th>Price</th>\n      <th>kms_driven</th>\n    </tr>\n  </thead>\n  <tbody>\n    <tr>\n      <th>count</th>\n      <td>816.000000</td>\n      <td>8.160000e+02</td>\n      <td>816.000000</td>\n    </tr>\n    <tr>\n      <th>mean</th>\n      <td>2012.444853</td>\n      <td>4.117176e+05</td>\n      <td>46275.531863</td>\n    </tr>\n    <tr>\n      <th>std</th>\n      <td>4.002992</td>\n      <td>4.751844e+05</td>\n      <td>34297.428044</td>\n    </tr>\n    <tr>\n      <th>min</th>\n      <td>1995.000000</td>\n      <td>3.000000e+04</td>\n      <td>0.000000</td>\n    </tr>\n    <tr>\n      <th>25%</th>\n      <td>2010.000000</td>\n      <td>1.750000e+05</td>\n      <td>27000.000000</td>\n    </tr>\n    <tr>\n      <th>50%</th>\n      <td>2013.000000</td>\n      <td>2.999990e+05</td>\n      <td>41000.000000</td>\n    </tr>\n    <tr>\n      <th>75%</th>\n      <td>2015.000000</td>\n      <td>4.912500e+05</td>\n      <td>56818.500000</td>\n    </tr>\n    <tr>\n      <th>max</th>\n      <td>2019.000000</td>\n      <td>8.500003e+06</td>\n      <td>400000.000000</td>\n    </tr>\n  </tbody>\n</table>\n</div>"
          },
          "metadata": {}
        }
      ]
    },
    {
      "cell_type": "code",
      "source": "car = car[car['Price']<6e6].reset_index(drop =True)",
      "metadata": {
        "trusted": true
      },
      "execution_count": 26,
      "outputs": []
    },
    {
      "cell_type": "code",
      "source": "car.info()",
      "metadata": {
        "trusted": true
      },
      "execution_count": 27,
      "outputs": [
        {
          "name": "stdout",
          "text": "<class 'pandas.core.frame.DataFrame'>\nRangeIndex: 815 entries, 0 to 814\nData columns (total 6 columns):\n #   Column      Non-Null Count  Dtype \n---  ------      --------------  ----- \n 0   name        815 non-null    object\n 1   company     815 non-null    object\n 2   year        815 non-null    int32 \n 3   Price       815 non-null    int32 \n 4   kms_driven  815 non-null    int32 \n 5   fuel_type   815 non-null    object\ndtypes: int32(3), object(3)\nmemory usage: 19.2+ KB\n",
          "output_type": "stream"
        }
      ]
    },
    {
      "cell_type": "code",
      "source": "car.to_csv('Clean Data of Cars.csv')",
      "metadata": {
        "trusted": true
      },
      "execution_count": 28,
      "outputs": []
    },
    {
      "cell_type": "markdown",
      "source": "Model",
      "metadata": {}
    },
    {
      "cell_type": "code",
      "source": "X = car.drop(columns = 'Price')\ny = car['Price']",
      "metadata": {
        "trusted": true
      },
      "execution_count": 29,
      "outputs": []
    },
    {
      "cell_type": "code",
      "source": "from sklearn.model_selection import train_test_split\nX_train, X_test, y_train, y_test = train_test_split(X, y, test_size = 0.2)",
      "metadata": {
        "trusted": true
      },
      "execution_count": 30,
      "outputs": []
    },
    {
      "cell_type": "code",
      "source": "X_test",
      "metadata": {
        "trusted": true
      },
      "execution_count": 31,
      "outputs": [
        {
          "execution_count": 31,
          "output_type": "execute_result",
          "data": {
            "text/plain": "                     name     company  year  kms_driven fuel_type\n382  Maruti Suzuki Ertiga      Maruti  2013       90000    Diesel\n348        Honda City 1.5       Honda  2010      400000    Petrol\n274       Tata Indigo eCS        Tata  2016      175430    Diesel\n288         Mini Cooper S        Mini  2013       13000    Petrol\n591   Maruti Suzuki Swift      Maruti  2011       64000    Petrol\n..                    ...         ...   ...         ...       ...\n648  Maruti Suzuki Ertiga      Maruti  2012      200000    Diesel\n360     Maruti Suzuki Zen      Maruti  2003       69900    Petrol\n751       Volkswagen Polo  Volkswagen  2013       48000    Diesel\n428   Maruti Suzuki Wagon      Maruti  2018       25500    Petrol\n399     Hyundai i20 Magna     Hyundai  2013       35000    Petrol\n\n[163 rows x 5 columns]",
            "text/html": "<div>\n<style scoped>\n    .dataframe tbody tr th:only-of-type {\n        vertical-align: middle;\n    }\n\n    .dataframe tbody tr th {\n        vertical-align: top;\n    }\n\n    .dataframe thead th {\n        text-align: right;\n    }\n</style>\n<table border=\"1\" class=\"dataframe\">\n  <thead>\n    <tr style=\"text-align: right;\">\n      <th></th>\n      <th>name</th>\n      <th>company</th>\n      <th>year</th>\n      <th>kms_driven</th>\n      <th>fuel_type</th>\n    </tr>\n  </thead>\n  <tbody>\n    <tr>\n      <th>382</th>\n      <td>Maruti Suzuki Ertiga</td>\n      <td>Maruti</td>\n      <td>2013</td>\n      <td>90000</td>\n      <td>Diesel</td>\n    </tr>\n    <tr>\n      <th>348</th>\n      <td>Honda City 1.5</td>\n      <td>Honda</td>\n      <td>2010</td>\n      <td>400000</td>\n      <td>Petrol</td>\n    </tr>\n    <tr>\n      <th>274</th>\n      <td>Tata Indigo eCS</td>\n      <td>Tata</td>\n      <td>2016</td>\n      <td>175430</td>\n      <td>Diesel</td>\n    </tr>\n    <tr>\n      <th>288</th>\n      <td>Mini Cooper S</td>\n      <td>Mini</td>\n      <td>2013</td>\n      <td>13000</td>\n      <td>Petrol</td>\n    </tr>\n    <tr>\n      <th>591</th>\n      <td>Maruti Suzuki Swift</td>\n      <td>Maruti</td>\n      <td>2011</td>\n      <td>64000</td>\n      <td>Petrol</td>\n    </tr>\n    <tr>\n      <th>...</th>\n      <td>...</td>\n      <td>...</td>\n      <td>...</td>\n      <td>...</td>\n      <td>...</td>\n    </tr>\n    <tr>\n      <th>648</th>\n      <td>Maruti Suzuki Ertiga</td>\n      <td>Maruti</td>\n      <td>2012</td>\n      <td>200000</td>\n      <td>Diesel</td>\n    </tr>\n    <tr>\n      <th>360</th>\n      <td>Maruti Suzuki Zen</td>\n      <td>Maruti</td>\n      <td>2003</td>\n      <td>69900</td>\n      <td>Petrol</td>\n    </tr>\n    <tr>\n      <th>751</th>\n      <td>Volkswagen Polo</td>\n      <td>Volkswagen</td>\n      <td>2013</td>\n      <td>48000</td>\n      <td>Diesel</td>\n    </tr>\n    <tr>\n      <th>428</th>\n      <td>Maruti Suzuki Wagon</td>\n      <td>Maruti</td>\n      <td>2018</td>\n      <td>25500</td>\n      <td>Petrol</td>\n    </tr>\n    <tr>\n      <th>399</th>\n      <td>Hyundai i20 Magna</td>\n      <td>Hyundai</td>\n      <td>2013</td>\n      <td>35000</td>\n      <td>Petrol</td>\n    </tr>\n  </tbody>\n</table>\n<p>163 rows × 5 columns</p>\n</div>"
          },
          "metadata": {}
        }
      ]
    },
    {
      "cell_type": "code",
      "source": "from sklearn.linear_model import LinearRegression\nfrom sklearn.metrics import r2_score\nfrom sklearn.preprocessing import OneHotEncoder\nfrom sklearn.compose import make_column_transformer\nfrom sklearn.pipeline import make_pipeline",
      "metadata": {
        "trusted": true
      },
      "execution_count": 32,
      "outputs": []
    },
    {
      "cell_type": "code",
      "source": "ohe = OneHotEncoder()\nohe.fit(X[['name', 'company', 'fuel_type']])",
      "metadata": {
        "trusted": true
      },
      "execution_count": 33,
      "outputs": [
        {
          "execution_count": 33,
          "output_type": "execute_result",
          "data": {
            "text/plain": "OneHotEncoder()"
          },
          "metadata": {}
        }
      ]
    },
    {
      "cell_type": "code",
      "source": "X_train",
      "metadata": {
        "trusted": true
      },
      "execution_count": 34,
      "outputs": [
        {
          "execution_count": 34,
          "output_type": "execute_result",
          "data": {
            "text/plain": "                     name   company  year  kms_driven fuel_type\n789    Hyundai Getz Prime   Hyundai  2009       20000    Petrol\n166   Maruti Suzuki Swift    Maruti  2011       47000    Diesel\n58              Ford Figo      Ford  2012       41000    Diesel\n803         Honda City VX     Honda  2016       95000    Petrol\n635        Honda City 1.5     Honda  2005       68000    Petrol\n..                    ...       ...   ...         ...       ...\n434     Hyundai Elite i20   Hyundai  2015       30000    Petrol\n290   Maruti Suzuki Swift    Maruti  2019          73    Petrol\n24     Maruti Suzuki Alto    Maruti  2017       72000    Petrol\n50   Mahindra Scorpio S10  Mahindra  2015       48508    Diesel\n784     Hyundai Santro AE   Hyundai  2003       70000    Petrol\n\n[652 rows x 5 columns]",
            "text/html": "<div>\n<style scoped>\n    .dataframe tbody tr th:only-of-type {\n        vertical-align: middle;\n    }\n\n    .dataframe tbody tr th {\n        vertical-align: top;\n    }\n\n    .dataframe thead th {\n        text-align: right;\n    }\n</style>\n<table border=\"1\" class=\"dataframe\">\n  <thead>\n    <tr style=\"text-align: right;\">\n      <th></th>\n      <th>name</th>\n      <th>company</th>\n      <th>year</th>\n      <th>kms_driven</th>\n      <th>fuel_type</th>\n    </tr>\n  </thead>\n  <tbody>\n    <tr>\n      <th>789</th>\n      <td>Hyundai Getz Prime</td>\n      <td>Hyundai</td>\n      <td>2009</td>\n      <td>20000</td>\n      <td>Petrol</td>\n    </tr>\n    <tr>\n      <th>166</th>\n      <td>Maruti Suzuki Swift</td>\n      <td>Maruti</td>\n      <td>2011</td>\n      <td>47000</td>\n      <td>Diesel</td>\n    </tr>\n    <tr>\n      <th>58</th>\n      <td>Ford Figo</td>\n      <td>Ford</td>\n      <td>2012</td>\n      <td>41000</td>\n      <td>Diesel</td>\n    </tr>\n    <tr>\n      <th>803</th>\n      <td>Honda City VX</td>\n      <td>Honda</td>\n      <td>2016</td>\n      <td>95000</td>\n      <td>Petrol</td>\n    </tr>\n    <tr>\n      <th>635</th>\n      <td>Honda City 1.5</td>\n      <td>Honda</td>\n      <td>2005</td>\n      <td>68000</td>\n      <td>Petrol</td>\n    </tr>\n    <tr>\n      <th>...</th>\n      <td>...</td>\n      <td>...</td>\n      <td>...</td>\n      <td>...</td>\n      <td>...</td>\n    </tr>\n    <tr>\n      <th>434</th>\n      <td>Hyundai Elite i20</td>\n      <td>Hyundai</td>\n      <td>2015</td>\n      <td>30000</td>\n      <td>Petrol</td>\n    </tr>\n    <tr>\n      <th>290</th>\n      <td>Maruti Suzuki Swift</td>\n      <td>Maruti</td>\n      <td>2019</td>\n      <td>73</td>\n      <td>Petrol</td>\n    </tr>\n    <tr>\n      <th>24</th>\n      <td>Maruti Suzuki Alto</td>\n      <td>Maruti</td>\n      <td>2017</td>\n      <td>72000</td>\n      <td>Petrol</td>\n    </tr>\n    <tr>\n      <th>50</th>\n      <td>Mahindra Scorpio S10</td>\n      <td>Mahindra</td>\n      <td>2015</td>\n      <td>48508</td>\n      <td>Diesel</td>\n    </tr>\n    <tr>\n      <th>784</th>\n      <td>Hyundai Santro AE</td>\n      <td>Hyundai</td>\n      <td>2003</td>\n      <td>70000</td>\n      <td>Petrol</td>\n    </tr>\n  </tbody>\n</table>\n<p>652 rows × 5 columns</p>\n</div>"
          },
          "metadata": {}
        }
      ]
    },
    {
      "cell_type": "code",
      "source": "column_trans = make_column_transformer((OneHotEncoder(categories = ohe.categories_),['name', 'company', 'fuel_type']),\n                                       \n                                       remainder = 'passthrough')",
      "metadata": {
        "trusted": true
      },
      "execution_count": 35,
      "outputs": []
    },
    {
      "cell_type": "code",
      "source": "column_trans",
      "metadata": {
        "trusted": true
      },
      "execution_count": 36,
      "outputs": [
        {
          "execution_count": 36,
          "output_type": "execute_result",
          "data": {
            "text/plain": "ColumnTransformer(remainder='passthrough',\n                  transformers=[('onehotencoder',\n                                 OneHotEncoder(categories=[array(['Audi A3 Cabriolet', 'Audi A4 1.8', 'Audi A4 2.0', 'Audi A6 2.0',\n       'Audi A8', 'Audi Q3 2.0', 'Audi Q5 2.0', 'Audi Q7', 'BMW 3 Series',\n       'BMW 5 Series', 'BMW 7 Series', 'BMW X1', 'BMW X1 sDrive20d',\n       'BMW X1 xDrive20d', 'Chevrolet Beat', 'Chevrolet Beat Diesel',\n       'Chevrolet Beat LS', 'Chevrolet B...\n       'Volkswagen Vento Konekt', 'Volvo S80 Summum'], dtype=object),\n                                                           array(['Audi', 'BMW', 'Chevrolet', 'Datsun', 'Fiat', 'Force', 'Ford',\n       'Hindustan', 'Honda', 'Hyundai', 'Jaguar', 'Jeep', 'Land',\n       'Mahindra', 'Maruti', 'Mercedes', 'Mini', 'Mitsubishi', 'Nissan',\n       'Renault', 'Skoda', 'Tata', 'Toyota', 'Volkswagen', 'Volvo'],\n      dtype=object),\n                                                           array(['Diesel', 'LPG', 'Petrol'], dtype=object)]),\n                                 ['name', 'company', 'fuel_type'])])"
          },
          "metadata": {}
        }
      ]
    },
    {
      "cell_type": "code",
      "source": "lr = LinearRegression()",
      "metadata": {
        "trusted": true
      },
      "execution_count": 37,
      "outputs": []
    },
    {
      "cell_type": "code",
      "source": "pipe = make_pipeline(column_trans, lr)",
      "metadata": {
        "trusted": true
      },
      "execution_count": 38,
      "outputs": []
    },
    {
      "cell_type": "code",
      "source": "pipe.fit(X_train, y_train)",
      "metadata": {
        "trusted": true
      },
      "execution_count": 39,
      "outputs": [
        {
          "execution_count": 39,
          "output_type": "execute_result",
          "data": {
            "text/plain": "Pipeline(steps=[('columntransformer',\n                 ColumnTransformer(remainder='passthrough',\n                                   transformers=[('onehotencoder',\n                                                  OneHotEncoder(categories=[array(['Audi A3 Cabriolet', 'Audi A4 1.8', 'Audi A4 2.0', 'Audi A6 2.0',\n       'Audi A8', 'Audi Q3 2.0', 'Audi Q5 2.0', 'Audi Q7', 'BMW 3 Series',\n       'BMW 5 Series', 'BMW 7 Series', 'BMW X1', 'BMW X1 sDrive20d',\n       'BMW X1 xDrive20d', 'Chevrolet Beat', 'Chevrolet Beat...\n                                                                            array(['Audi', 'BMW', 'Chevrolet', 'Datsun', 'Fiat', 'Force', 'Ford',\n       'Hindustan', 'Honda', 'Hyundai', 'Jaguar', 'Jeep', 'Land',\n       'Mahindra', 'Maruti', 'Mercedes', 'Mini', 'Mitsubishi', 'Nissan',\n       'Renault', 'Skoda', 'Tata', 'Toyota', 'Volkswagen', 'Volvo'],\n      dtype=object),\n                                                                            array(['Diesel', 'LPG', 'Petrol'], dtype=object)]),\n                                                  ['name', 'company',\n                                                   'fuel_type'])])),\n                ('linearregression', LinearRegression())])"
          },
          "metadata": {}
        }
      ]
    },
    {
      "cell_type": "code",
      "source": "y_pred = pipe.predict(X_test)",
      "metadata": {
        "trusted": true
      },
      "execution_count": 40,
      "outputs": []
    },
    {
      "cell_type": "code",
      "source": "y_pred.shape",
      "metadata": {
        "trusted": true
      },
      "execution_count": 41,
      "outputs": [
        {
          "execution_count": 41,
          "output_type": "execute_result",
          "data": {
            "text/plain": "(163,)"
          },
          "metadata": {}
        }
      ]
    },
    {
      "cell_type": "code",
      "source": "r2_score(y_test, y_pred)",
      "metadata": {
        "trusted": true
      },
      "execution_count": 42,
      "outputs": [
        {
          "execution_count": 42,
          "output_type": "execute_result",
          "data": {
            "text/plain": "0.7280512287321961"
          },
          "metadata": {}
        }
      ]
    },
    {
      "cell_type": "code",
      "source": "scores = []\nfor i in range(1000):\n    X_train, X_test, y_train, y_test = train_test_split(X, y, test_size = 0.2, random_state = i)\n    lr = LinearRegression()\n    pipe = make_pipeline(column_trans, lr)\n    pipe.fit(X_train, y_train)\n    y_pred = pipe.predict(X_test)\n    scores.append(r2_score(y_test, y_pred))",
      "metadata": {
        "trusted": true
      },
      "execution_count": 43,
      "outputs": []
    },
    {
      "cell_type": "code",
      "source": "np.argmax(scores)",
      "metadata": {
        "trusted": true
      },
      "execution_count": 44,
      "outputs": [
        {
          "execution_count": 44,
          "output_type": "execute_result",
          "data": {
            "text/plain": "433"
          },
          "metadata": {}
        }
      ]
    },
    {
      "cell_type": "code",
      "source": "scores[np.argmax(scores)]",
      "metadata": {
        "trusted": true
      },
      "execution_count": 45,
      "outputs": [
        {
          "execution_count": 45,
          "output_type": "execute_result",
          "data": {
            "text/plain": "0.8456893895438501"
          },
          "metadata": {}
        }
      ]
    },
    {
      "cell_type": "code",
      "source": " X_train, X_test, y_train, y_test = train_test_split(X, y, test_size = 0.2, random_state = np.argmax(scores))\nlr = LinearRegression()\npipe = make_pipeline(column_trans, lr)\npipe.fit(X_train, y_train)\ny_pred = pipe.predict(X_test)\nr2_score(y_test, y_pred)",
      "metadata": {
        "trusted": true
      },
      "execution_count": 46,
      "outputs": [
        {
          "execution_count": 46,
          "output_type": "execute_result",
          "data": {
            "text/plain": "0.8456893895438501"
          },
          "metadata": {}
        }
      ]
    },
    {
      "cell_type": "code",
      "source": "import pickle",
      "metadata": {
        "trusted": true
      },
      "execution_count": 47,
      "outputs": []
    },
    {
      "cell_type": "code",
      "source": "pickle.dump(pipe, open('LinearRegressionModel.pkl', 'wb'))",
      "metadata": {
        "trusted": true
      },
      "execution_count": 48,
      "outputs": []
    },
    {
      "cell_type": "code",
      "source": "pipe.predict(pd.DataFrame([['Maruti Suzuki Swift', 'Maruti', 2019, 100, 'Petrol']], columns= ['name', 'company','year', 'kms_driven', 'fuel_type' ]))",
      "metadata": {
        "trusted": true
      },
      "execution_count": 49,
      "outputs": [
        {
          "execution_count": 49,
          "output_type": "execute_result",
          "data": {
            "text/plain": "array([458960.78650077])"
          },
          "metadata": {}
        }
      ]
    },
    {
      "cell_type": "code",
      "source": "",
      "metadata": {},
      "execution_count": null,
      "outputs": []
    }
  ]
}